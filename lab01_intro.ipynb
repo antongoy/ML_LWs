{
 "cells": [
  {
   "cell_type": "markdown",
   "metadata": {},
   "source": [
    "# Лабораторная работа 1. Язык Python, основные библиотеки для анализа данных."
   ]
  },
  {
   "cell_type": "markdown",
   "metadata": {},
   "source": [
    "ФИО: Гой Антон Сергеевич\n",
    "\n",
    "Группа: 517"
   ]
  },
  {
   "cell_type": "code",
   "execution_count": 1,
   "metadata": {
    "collapsed": false
   },
   "outputs": [],
   "source": [
    "import numpy as np\n",
    "import pandas as pd"
   ]
  },
  {
   "cell_type": "markdown",
   "metadata": {},
   "source": [
    "## Часть 1: Python"
   ]
  },
  {
   "cell_type": "markdown",
   "metadata": {},
   "source": [
    "#### 1. Напишите код, который сформирует список всех натуральных чисел, не превосходящих 100, которые делятся на 7 и не делятся на 5. Нельзя использовать циклы — выполните это задание с помощью list comprehension."
   ]
  },
  {
   "cell_type": "code",
   "execution_count": 2,
   "metadata": {
    "collapsed": false
   },
   "outputs": [
    {
     "data": {
      "text/plain": [
       "[7, 14, 21, 28, 42, 49, 56, 63, 77, 84, 91, 98]"
      ]
     },
     "execution_count": 2,
     "metadata": {},
     "output_type": "execute_result"
    }
   ],
   "source": [
    "[i for i in range(1, 100) if i % 7 == 0 and i % 5 != 0]"
   ]
  },
  {
   "cell_type": "markdown",
   "metadata": {},
   "source": [
    "#### 2. Напишите функцию `sort_tokens(s)`, которая принимает на вход строку, разделяет ее на токены по запятым, сортирует токены с помощью функции `sorted()` и снова соединяет их в одну строку через запятые. Например, для строки `u\"ночь,фонарь,улица\"` функция должна выдать `u\"ночь,улица,фонарь\"`. Придумайте несколько входных строк и протестируйте функцию на них."
   ]
  },
  {
   "cell_type": "markdown",
   "metadata": {},
   "source": [
    "Обратите внимание, что склеить строки можно с помощью конструкции `'x'.join(...)`. Например:"
   ]
  },
  {
   "cell_type": "code",
   "execution_count": 3,
   "metadata": {
    "collapsed": false
   },
   "outputs": [
    {
     "data": {
      "text/plain": [
       "'i! am! very! excited! :-)'"
      ]
     },
     "execution_count": 3,
     "metadata": {},
     "output_type": "execute_result"
    }
   ],
   "source": [
    "'! '.join(['i', 'am', 'very', 'excited', ':-)'])"
   ]
  },
  {
   "cell_type": "code",
   "execution_count": 12,
   "metadata": {
    "collapsed": false
   },
   "outputs": [
    {
     "name": "stdout",
     "output_type": "stream",
     "text": [
      "ночь,улица,фонарь\n"
     ]
    }
   ],
   "source": [
    "def sort_tokens(s):\n",
    "    return ','.join(sorted(s.split(',')))\n",
    "\n",
    "print(sort_tokens(u\"ночь,фонарь,улица\"))"
   ]
  },
  {
   "cell_type": "markdown",
   "metadata": {},
   "source": [
    "#### 3. Напишите функцию `remove_duplicates(a)`, которая принимает на вход список и возвращает его же, но без дубликатов и в отсортированном виде. Например, для списка `[u\"ночь\", u\"улица\", u\"фонарь\", u\"аптека\", u\"аптека\", u\"улица\", u\"фонарь\"]` результат должен быть `[u\"аптека\", u\"ночь\", u\"улица\", u\"фонарь\", ]`."
   ]
  },
  {
   "cell_type": "markdown",
   "metadata": {},
   "source": [
    "Подсказка: обратите внимание на структуру `set`!"
   ]
  },
  {
   "cell_type": "code",
   "execution_count": 21,
   "metadata": {
    "collapsed": false
   },
   "outputs": [
    {
     "data": {
      "text/plain": [
       "[u'\\u0430\\u043f\\u0442\\u0435\\u043a\\u0430',\n",
       " u'\\u043d\\u043e\\u0447\\u044c',\n",
       " u'\\u0443\\u043b\\u0438\\u0446\\u0430',\n",
       " u'\\u0444\\u043e\\u043d\\u0430\\u0440\\u044c']"
      ]
     },
     "execution_count": 21,
     "metadata": {},
     "output_type": "execute_result"
    }
   ],
   "source": [
    "def duplicates(a):\n",
    "    return sorted(list(set(a)))\n",
    "\n",
    "duplicates([u\"ночь\", u\"улица\", u\"фонарь\", u\"аптека\", u\"аптека\", u\"улица\", u\"фонарь\"])"
   ]
  },
  {
   "cell_type": "markdown",
   "metadata": {},
   "source": [
    "#### 4. Напишите функцию `word_counts(texts)`, которая принимает на вход список строк, и печатает пары (слово, число вхождений). Считайте, что слова в текстах могут быть разделены только пробелами. Например, для входа `[u'ночь улица фонарь аптека', u'аптека улица фонарь']` должно быть напечатано\n",
    ">аптека 2\n",
    "\n",
    ">улица 2\n",
    "\n",
    ">фонарь 2\n",
    "\n",
    ">ночь 1"
   ]
  },
  {
   "cell_type": "markdown",
   "metadata": {},
   "source": [
    "Подсказки:\n",
    "\n",
    "Чтобы разбить каждый из текстов на слова, воспользуйтесь функцией `map`, которая применяет заданную функцию к каждому элементу списка. Например, если бы нужно было каждый из текстов привести к нижнему регистру, то команда выглядела бы так:"
   ]
  },
  {
   "cell_type": "code",
   "execution_count": 22,
   "metadata": {
    "collapsed": false
   },
   "outputs": [
    {
     "data": {
      "text/plain": [
       "['abcdefg', 'hijkl']"
      ]
     },
     "execution_count": 22,
     "metadata": {},
     "output_type": "execute_result"
    }
   ],
   "source": [
    "map(lambda x: x.lower(), [\"abCDefg\", \"HIjkL\"])"
   ]
  },
  {
   "cell_type": "markdown",
   "metadata": {},
   "source": [
    "После первого шага вы получите список, состоящий из списков слов. Чтобы объединить их в один список слов, воспользуйтесь функцией `reduce`. Например, просуммировать числа из списка с ее помощью можно так:\n",
    "\n"
   ]
  },
  {
   "cell_type": "code",
   "execution_count": 23,
   "metadata": {
    "collapsed": false
   },
   "outputs": [
    {
     "data": {
      "text/plain": [
       "15"
      ]
     },
     "execution_count": 23,
     "metadata": {},
     "output_type": "execute_result"
    }
   ],
   "source": [
    "reduce(lambda x, y: x + y, [1, 2, 3, 4, 5])"
   ]
  },
  {
   "cell_type": "markdown",
   "metadata": {},
   "source": [
    "Для подсчета количества вхождений слов воспользуйтесь структурой `defaultdict` из модуля `collections`. В отличие от обычного `dict`, она не генерирует ошибку при обращении к несуществущему ключу, а создает новую запись, инициализируемую нулевым значением. Например:"
   ]
  },
  {
   "cell_type": "code",
   "execution_count": 2,
   "metadata": {
    "collapsed": false
   },
   "outputs": [
    {
     "name": "stdout",
     "output_type": "stream",
     "text": [
      "defaultdict(<type 'int'>, {})\n",
      "defaultdict(<type 'int'>, {'abc': 1})\n",
      "defaultdict(<type 'int'>, {'xxx': 0, 'abc': 1})\n"
     ]
    }
   ],
   "source": [
    "from collections import defaultdict\n",
    "d = defaultdict(int)\n",
    "print d\n",
    "d['abc'] += 1\n",
    "print d\n",
    "d['xxx']\n",
    "print d"
   ]
  },
  {
   "cell_type": "code",
   "execution_count": 3,
   "metadata": {
    "collapsed": false
   },
   "outputs": [
    {
     "name": "stdout",
     "output_type": "stream",
     "text": [
      "аптека   2\n",
      "улица   2\n",
      "фонарь   2\n",
      "ночь   1\n"
     ]
    }
   ],
   "source": [
    "def word_counts(texts):\n",
    "    words = reduce(lambda x, y: x + y, map(lambda x: x.split(), texts))\n",
    "    d = defaultdict(int)\n",
    "    for word in words:\n",
    "        d[word] += 1\n",
    "    \n",
    "    for word in d:\n",
    "        print word, ' ', d[word] \n",
    "        \n",
    "word_counts([u'ночь улица фонарь аптека', u'аптека улица фонарь'])"
   ]
  },
  {
   "cell_type": "markdown",
   "metadata": {},
   "source": [
    "#### 5. (бонусное задание) Скачайте английский перевод \"Преступления и наказания\". Найдите 20 самых популярных слов и 20 слов, которые встречаются только один раз."
   ]
  },
  {
   "cell_type": "markdown",
   "metadata": {},
   "source": [
    "Приведите текст к нижнему регистру. Разделите текст на слова, считая разделителями все, кроме букв. Обратите внимание на функцию `split` из модуля `re`.\n",
    "\n",
    "Не забудьте удалить пустые слова:\n",
    "```\n",
    "words = filter(lambda x: len(x) > 0, words)\n",
    "```"
   ]
  },
  {
   "cell_type": "code",
   "execution_count": 4,
   "metadata": {
    "collapsed": false
   },
   "outputs": [],
   "source": [
    "from urllib import urlopen\n",
    "url = \"http://www.gutenberg.org/files/2554/2554.txt\"\n",
    "response = urlopen(url)\n",
    "raw_text = response.read().decode('utf8')"
   ]
  },
  {
   "cell_type": "code",
   "execution_count": 5,
   "metadata": {
    "collapsed": false
   },
   "outputs": [
    {
     "data": {
      "text/plain": [
       "u'r five\\r\\nchildren in only two rooms. The father and mother spent their evenings\\r\\nin reading aloud to '"
      ]
     },
     "execution_count": 5,
     "metadata": {},
     "output_type": "execute_result"
    }
   ],
   "source": [
    "raw_text[1000:1100]"
   ]
  },
  {
   "cell_type": "code",
   "execution_count": 8,
   "metadata": {
    "collapsed": false
   },
   "outputs": [
    {
     "name": "stdout",
     "output_type": "stream",
     "text": [
      "the\n",
      "and\n",
      "to\n",
      "he\n",
      "a\n",
      "i\n",
      "you\n",
      "of\n",
      "it\n",
      "that\n",
      "in\n",
      "was\n",
      "his\n",
      "at\n",
      "her\n",
      "but\n",
      "not\n",
      "s\n",
      "with\n",
      "she\n",
      "\n",
      "\n",
      "this_\n",
      "fawning\n",
      "sabre\n",
      "noxious\n",
      "faithfully\n",
      "uncontrollable\n",
      "funds\n",
      "deuce\n",
      "tactics\n",
      "rigamarole\n",
      "venetian\n",
      "rickety\n",
      "unfolding\n",
      "gnawing\n",
      "bombarding\n",
      "transfigured\n",
      "june\n",
      "upwards\n",
      "sash\n",
      "bereaved\n"
     ]
    }
   ],
   "source": [
    "import re\n",
    "\n",
    "tokens = filter(lambda x: len(x) > 0, re.split('\\W+', raw_text.lower()))\n",
    "count = defaultdict(int)\n",
    "for token in tokens:\n",
    "    count[token] += 1\n",
    "sorted_tokens = sorted(count.items(), reverse=True, key=lambda x: x[1])\n",
    "top = sorted_tokens[:20]\n",
    "only_one = sorted_tokens[-20:]\n",
    "\n",
    "for word, _ in top:\n",
    "    print word\n",
    "    \n",
    "print '\\n'\n",
    "\n",
    "for word, _ in only_one:\n",
    "    print word"
   ]
  },
  {
   "cell_type": "markdown",
   "metadata": {},
   "source": [
    "## Часть 2: NumPy и SciPy"
   ]
  },
  {
   "cell_type": "markdown",
   "metadata": {},
   "source": [
    "#### 1. Повторите 1000 раз следующий эксперимент: сгенерируйте две матрицы размера $10 \\times 10$ из стандартного нормального распределения, перемножьте их (как матрицы) и найдите максимальный элемент. Какое среднее значение по экспериментам у максимальных элементов? 95-процентная квантиль?"
   ]
  },
  {
   "cell_type": "markdown",
   "metadata": {},
   "source": [
    "Для вычисления квантили воспользуйтесь функцией `np.percentile`"
   ]
  },
  {
   "cell_type": "code",
   "execution_count": 4,
   "metadata": {
    "collapsed": false
   },
   "outputs": [
    {
     "name": "stdout",
     "output_type": "stream",
     "text": [
      "8.40812330656 12.0354613702\n"
     ]
    }
   ],
   "source": [
    "avg_max = 0\n",
    "maxes = np.zeros(1000)\n",
    "\n",
    "for i in range(1000):\n",
    "    A = np.random.normal(loc=0, scale=1, size=(10, 10))\n",
    "    B = np.random.normal(loc=0, scale=1, size=(10, 10))\n",
    "    C = np.dot(A, B)\n",
    "    \n",
    "    max_elem = C.max()\n",
    "    avg_max += max_elem\n",
    "    maxes[i] += max_elem\n",
    "    \n",
    "avg_max /= 1000.0\n",
    "quantile = np.percentile(maxes, q=95)\n",
    "\n",
    "print avg_max, quantile"
   ]
  },
  {
   "cell_type": "markdown",
   "metadata": {},
   "source": [
    "#### 2. Сгенерируйте 1000 чисел из распределения Пуассона с параметром $\\lambda = 5$. Сформируйте массив, в котором в i-м элементе будет записано количество сгенерированных чисел, равных i."
   ]
  },
  {
   "cell_type": "markdown",
   "metadata": {},
   "source": [
    "Обратите внимание на функцию `np.bincount`"
   ]
  },
  {
   "cell_type": "code",
   "execution_count": 14,
   "metadata": {
    "collapsed": false
   },
   "outputs": [
    {
     "data": {
      "text/plain": [
       "array([  6,  39,  73, 132, 171, 164, 169, 101,  72,  35,  18,  13,   3,   4])"
      ]
     },
     "execution_count": 14,
     "metadata": {},
     "output_type": "execute_result"
    }
   ],
   "source": [
    "np.bincount(np.random.poisson(lam=5, size=(1000,)))"
   ]
  },
  {
   "cell_type": "markdown",
   "metadata": {},
   "source": [
    "#### 3. Реализуйте функцию, которая принимает на вход numpy-массив целых чисел `a`, и генерирует массив, в котором число `i` встречается `a[i]` раз. Протестируйте на результате из прошлого задания."
   ]
  },
  {
   "cell_type": "markdown",
   "metadata": {},
   "source": [
    "Обратите внимание на функцию `np.repeat`"
   ]
  },
  {
   "cell_type": "code",
   "execution_count": 18,
   "metadata": {
    "collapsed": false
   },
   "outputs": [
    {
     "data": {
      "text/plain": [
       "array([ 0,  0,  0,  1,  1,  1,  1,  1,  1,  1,  1,  1,  1,  1,  1,  1,  1,\n",
       "        1,  1,  1,  1,  1,  1,  1,  1,  1,  1,  1,  1,  1,  1,  1,  1,  1,\n",
       "        1,  1,  1,  1,  1,  1,  1,  1,  1,  1,  1,  1,  1,  2,  2,  2,  2,\n",
       "        2,  2,  2,  2,  2,  2,  2,  2,  2,  2,  2,  2,  2,  2,  2,  2,  2,\n",
       "        2,  2,  2,  2,  2,  2,  2,  2,  2,  2,  2,  2,  2,  2,  2,  2,  2,\n",
       "        2,  2,  2,  2,  2,  2,  2,  2,  2,  2,  2,  2,  2,  2,  2,  2,  2,\n",
       "        2,  2,  2,  2,  2,  2,  2,  2,  2,  2,  2,  2,  2,  2,  2,  2,  2,\n",
       "        2,  2,  2,  2,  2,  2,  2,  2,  2,  2,  2,  2,  2,  2,  2,  2,  2,\n",
       "        2,  2,  2,  2,  3,  3,  3,  3,  3,  3,  3,  3,  3,  3,  3,  3,  3,\n",
       "        3,  3,  3,  3,  3,  3,  3,  3,  3,  3,  3,  3,  3,  3,  3,  3,  3,\n",
       "        3,  3,  3,  3,  3,  3,  3,  3,  3,  3,  3,  3,  3,  3,  3,  3,  3,\n",
       "        3,  3,  3,  3,  3,  3,  3,  3,  3,  3,  3,  3,  3,  3,  3,  3,  3,\n",
       "        3,  3,  3,  3,  3,  3,  3,  3,  3,  3,  3,  3,  3,  3,  3,  3,  3,\n",
       "        3,  3,  3,  3,  3,  3,  3,  3,  3,  3,  3,  3,  3,  3,  3,  3,  3,\n",
       "        3,  3,  3,  3,  3,  3,  3,  3,  3,  3,  3,  3,  3,  3,  3,  3,  3,\n",
       "        3,  3,  3,  3,  3,  3,  3,  3,  3,  3,  3,  3,  3,  3,  3,  3,  3,\n",
       "        3,  3,  3,  3,  3,  3,  3,  3,  3,  4,  4,  4,  4,  4,  4,  4,  4,\n",
       "        4,  4,  4,  4,  4,  4,  4,  4,  4,  4,  4,  4,  4,  4,  4,  4,  4,\n",
       "        4,  4,  4,  4,  4,  4,  4,  4,  4,  4,  4,  4,  4,  4,  4,  4,  4,\n",
       "        4,  4,  4,  4,  4,  4,  4,  4,  4,  4,  4,  4,  4,  4,  4,  4,  4,\n",
       "        4,  4,  4,  4,  4,  4,  4,  4,  4,  4,  4,  4,  4,  4,  4,  4,  4,\n",
       "        4,  4,  4,  4,  4,  4,  4,  4,  4,  4,  4,  4,  4,  4,  4,  4,  4,\n",
       "        4,  4,  4,  4,  4,  4,  4,  4,  4,  4,  4,  4,  4,  4,  4,  4,  4,\n",
       "        4,  4,  4,  4,  4,  4,  4,  4,  4,  4,  4,  4,  4,  4,  4,  4,  4,\n",
       "        4,  4,  4,  4,  4,  4,  4,  4,  4,  4,  4,  4,  4,  4,  4,  4,  4,\n",
       "        4,  4,  4,  4,  4,  4,  4,  4,  4,  4,  4,  4,  4,  4,  4,  4,  4,\n",
       "        4,  4,  4,  4,  4,  4,  4,  4,  4,  4,  4,  4,  4,  4,  4,  4,  4,\n",
       "        4,  4,  4,  4,  4,  4,  5,  5,  5,  5,  5,  5,  5,  5,  5,  5,  5,\n",
       "        5,  5,  5,  5,  5,  5,  5,  5,  5,  5,  5,  5,  5,  5,  5,  5,  5,\n",
       "        5,  5,  5,  5,  5,  5,  5,  5,  5,  5,  5,  5,  5,  5,  5,  5,  5,\n",
       "        5,  5,  5,  5,  5,  5,  5,  5,  5,  5,  5,  5,  5,  5,  5,  5,  5,\n",
       "        5,  5,  5,  5,  5,  5,  5,  5,  5,  5,  5,  5,  5,  5,  5,  5,  5,\n",
       "        5,  5,  5,  5,  5,  5,  5,  5,  5,  5,  5,  5,  5,  5,  5,  5,  5,\n",
       "        5,  5,  5,  5,  5,  5,  5,  5,  5,  5,  5,  5,  5,  5,  5,  5,  5,\n",
       "        5,  5,  5,  5,  5,  5,  5,  5,  5,  5,  5,  5,  5,  5,  5,  5,  5,\n",
       "        5,  5,  5,  5,  5,  5,  5,  5,  5,  5,  5,  5,  5,  5,  5,  5,  5,\n",
       "        5,  5,  5,  5,  5,  5,  5,  5,  5,  5,  5,  5,  5,  5,  6,  6,  6,\n",
       "        6,  6,  6,  6,  6,  6,  6,  6,  6,  6,  6,  6,  6,  6,  6,  6,  6,\n",
       "        6,  6,  6,  6,  6,  6,  6,  6,  6,  6,  6,  6,  6,  6,  6,  6,  6,\n",
       "        6,  6,  6,  6,  6,  6,  6,  6,  6,  6,  6,  6,  6,  6,  6,  6,  6,\n",
       "        6,  6,  6,  6,  6,  6,  6,  6,  6,  6,  6,  6,  6,  6,  6,  6,  6,\n",
       "        6,  6,  6,  6,  6,  6,  6,  6,  6,  6,  6,  6,  6,  6,  6,  6,  6,\n",
       "        6,  6,  6,  6,  6,  6,  6,  6,  6,  6,  6,  6,  6,  6,  6,  6,  6,\n",
       "        6,  6,  6,  6,  6,  6,  6,  6,  6,  6,  6,  6,  6,  6,  6,  6,  6,\n",
       "        6,  6,  6,  6,  6,  6,  6,  6,  6,  6,  6,  6,  6,  6,  6,  6,  6,\n",
       "        6,  6,  6,  6,  6,  6,  6,  6,  6,  6,  7,  7,  7,  7,  7,  7,  7,\n",
       "        7,  7,  7,  7,  7,  7,  7,  7,  7,  7,  7,  7,  7,  7,  7,  7,  7,\n",
       "        7,  7,  7,  7,  7,  7,  7,  7,  7,  7,  7,  7,  7,  7,  7,  7,  7,\n",
       "        7,  7,  7,  7,  7,  7,  7,  7,  7,  7,  7,  7,  7,  7,  7,  7,  7,\n",
       "        7,  7,  7,  7,  7,  7,  7,  7,  7,  7,  7,  7,  7,  7,  7,  7,  7,\n",
       "        7,  7,  7,  7,  7,  7,  7,  7,  7,  7,  7,  7,  7,  7,  7,  7,  7,\n",
       "        7,  7,  7,  7,  7,  7,  7,  7,  7,  7,  7,  7,  7,  7,  7,  7,  7,\n",
       "        8,  8,  8,  8,  8,  8,  8,  8,  8,  8,  8,  8,  8,  8,  8,  8,  8,\n",
       "        8,  8,  8,  8,  8,  8,  8,  8,  8,  8,  8,  8,  8,  8,  8,  8,  8,\n",
       "        8,  8,  8,  8,  8,  8,  8,  8,  8,  8,  8,  8,  8,  8,  8,  8,  8,\n",
       "        8,  8,  8,  8,  8,  8,  9,  9,  9,  9,  9,  9,  9,  9,  9,  9,  9,\n",
       "        9,  9,  9,  9,  9,  9,  9,  9,  9,  9,  9,  9,  9,  9,  9,  9,  9,\n",
       "        9,  9,  9,  9,  9,  9,  9, 10, 10, 10, 10, 10, 10, 10, 10, 10, 10,\n",
       "       10, 10, 11, 11, 11, 11, 11, 11, 12, 12, 13, 13, 14, 14])"
      ]
     },
     "execution_count": 18,
     "metadata": {},
     "output_type": "execute_result"
    }
   ],
   "source": [
    "def repeat_elemets(a):\n",
    "    n = a.shape[0]\n",
    "    return np.repeat(np.arange(n), repeats=a)\n",
    "\n",
    "repeat_elemets(np.bincount(np.random.poisson(lam=5, size=(1000,))))"
   ]
  },
  {
   "cell_type": "markdown",
   "metadata": {},
   "source": [
    "#### 4. Напишите функцию `scale(X)`, которая принимает на вход матрицу и масштабирует каждый ее столбец (вычитает среднее и делит на стандартное отклонение). Убедитесь, что в функции не будет происходить деления на ноль. Протестируйте на каких-нибудь данных."
   ]
  },
  {
   "cell_type": "code",
   "execution_count": 31,
   "metadata": {
    "collapsed": false
   },
   "outputs": [
    {
     "data": {
      "text/plain": [
       "array([[-0.37159017,  0.89126632,  0.1972101 ,  1.06316577,  0.        ],\n",
       "       [ 1.36750595, -1.39654497, -1.31138332,  0.27604259,  0.        ],\n",
       "       [-0.99591578,  0.50527865,  1.11417322, -1.33920836,  0.        ]])"
      ]
     },
     "execution_count": 31,
     "metadata": {},
     "output_type": "execute_result"
    }
   ],
   "source": [
    "def scale(X):\n",
    "    mean = X.mean(axis=0)\n",
    "    std = X.std(axis=0)\n",
    "    X -= mean\n",
    "    X[:, std != 0] /= std[std != 0]\n",
    "    return X\n",
    "    \n",
    "X = np.hstack((np.random.normal(size=(3, 4)), np.full((3, 1), 1)))\n",
    "scale(X)"
   ]
  },
  {
   "cell_type": "markdown",
   "metadata": {},
   "source": [
    "#### 5. Сгенерируйте матрицу с элементами из нормального распределения $\\mathcal{N}(10, 1)$. Найдите ее:\n",
    "- определитель\n",
    "- след\n",
    "- наименьший и наибольший элементы\n",
    "- спектральную норму\n",
    "- норму Фробениуса\n",
    "- собственные числа\n",
    "- обратную матрицу"
   ]
  },
  {
   "cell_type": "code",
   "execution_count": 41,
   "metadata": {
    "collapsed": false
   },
   "outputs": [
    {
     "name": "stdout",
     "output_type": "stream",
     "text": [
      " det = -66416.0709239\n",
      "trace = 98.8902602671\n",
      "min = 7.57287447314  max = 13.0172225831\n",
      "spectral_norm = 100.301693169\n",
      "frobeneus_norm = 100.790901056\n",
      "inverse_matrix = [[  5.81948803e-01  -2.58581053e-01  -6.22995275e-01   8.02080069e-01\n",
      "    5.17067701e-01  -6.73263337e-02  -2.28459054e-01   9.12393747e-01\n",
      "   -3.61459488e-01  -1.48399413e+00]\n",
      " [ -7.13082730e-01   3.04939302e-01   1.24314779e+00  -8.24864933e-01\n",
      "   -8.63768618e-01  -1.93054431e-01   8.95412646e-02  -1.28350888e+00\n",
      "    4.33215732e-01   2.12627039e+00]\n",
      " [ -6.22515153e-02  -1.69549166e-02   1.29113402e-01   5.42871807e-02\n",
      "   -1.83270703e-03   1.29465949e-01  -5.63190001e-02   8.87517030e-02\n",
      "   -4.93573323e-02  -2.31805363e-01]\n",
      " [  1.22204162e-01  -6.18899705e-02  -3.51874185e-02  -2.76394776e-01\n",
      "    5.14681195e-02   7.33562199e-02  -1.57187360e-01   2.95562387e-01\n",
      "   -4.94563642e-02   4.31587402e-02]\n",
      " [ -2.64357620e-01   1.80603106e-01   1.88586276e-01  -1.30585459e-01\n",
      "    4.04268341e-02  -6.12352284e-02  -1.70717185e-01   1.66061640e-02\n",
      "    1.63903623e-01   5.04198179e-02]\n",
      " [ -1.89152530e-01  -7.15401595e-02   8.45171792e-02  -1.30670619e-01\n",
      "    1.06333873e-02  -1.35344597e-01   4.79987733e-01  -6.47142370e-01\n",
      "    8.47376629e-02   6.13483221e-01]\n",
      " [ -3.73573422e-01   2.19768041e-02   8.23806271e-01  -3.77820859e-01\n",
      "   -4.06961421e-01  -2.81597058e-02  -6.06525672e-02  -8.66983775e-01\n",
      "    3.44307825e-01   1.10074865e+00]\n",
      " [  6.59784357e-02   2.25520215e-01   9.20232163e-03  -9.29556585e-02\n",
      "    3.58650991e-02  -3.76906410e-02   4.79260826e-02  -9.76162363e-02\n",
      "   -8.31491932e-03  -1.37841895e-01]\n",
      " [  1.67245594e-01  -1.36060889e-01  -5.64147835e-01   5.79280756e-01\n",
      "    1.91936303e-01   1.90730997e-01   1.21567371e-01   1.17403403e-01\n",
      "   -3.50194612e-01  -3.75081820e-01]\n",
      " [  6.99129840e-01  -1.84600484e-01  -1.30118797e+00   4.49049761e-01\n",
      "    4.69410399e-01   1.56957981e-01  -5.25193735e-02   1.51483811e+00\n",
      "   -2.28458908e-01  -1.77530813e+00]]\n"
     ]
    }
   ],
   "source": [
    "A = np.random.normal(loc=10, scale=1, size=(10, 10))\n",
    "print 'det =', np.linalg.det(A)\n",
    "print 'trace =', np.trace(A)\n",
    "print 'min =', A.min(), ' max =', A.max()\n",
    "print 'spectral_norm =', np.linalg.norm(A, ord=2)\n",
    "print 'frobeneus_norm =', np.linalg.norm(A, ord='fro')\n",
    "print 'inverse_matrix =', np.linalg.inv(A)"
   ]
  },
  {
   "cell_type": "markdown",
   "metadata": {},
   "source": [
    "## Часть 3: Pandas"
   ]
  },
  {
   "cell_type": "markdown",
   "metadata": {},
   "source": [
    "#### Ответьте на вопросы о данных по авиарейсам в США за январь-апрель 2008 года.\n",
    "\n",
    "Данные: http://stat-computing.org/dataexpo/2009/2008.csv.bz2\n",
    "(обратите внимание, что распаковывать этот файл не обязательно — функция `pandas.read_csv` умеет читать из архивов автоматически)\n",
    "\n",
    "Описание: http://stat-computing.org/dataexpo/2009/the-data.html\n",
    "\n",
    "1. Какая из причин отмены рейса (`CancellationCode`) была самой частой? (расшифровки кодов можно найти в описании данных)\n",
    "2. Найдите среднее, минимальное и максимальное расстояние, пройденное самолетом.\n",
    "3. Не выглядит ли подозрительным минимальное пройденное расстояние? В какие дни и на каких рейсах оно было? Какое расстояние было пройдено этими же рейсами в другие дни?\n",
    "4. Из какого аэропорта было произведено больше всего вылетов? В каком городе он находится?\n",
    "5. Найдите для каждого аэропорта среднее время полета (`AirTime`) по всем вылетевшим из него рейсам. Какой аэропорт имеет наибольшее значение этого показателя?\n",
    "6. Найдите аэропорт, у которого наибольшая доля задержанных (`DepDelay > 0`) рейсов. Исключите при этом из рассмотрения аэропорты, из которых было отправлено меньше 1000 рейсов (используйте функцию `filter` после `groupby`)."
   ]
  },
  {
   "cell_type": "code",
   "execution_count": 2,
   "metadata": {
    "collapsed": false
   },
   "outputs": [],
   "source": [
    "x = pd.read_csv('2008.csv')"
   ]
  },
  {
   "cell_type": "code",
   "execution_count": 7,
   "metadata": {
    "collapsed": false
   },
   "outputs": [
    {
     "name": "stdout",
     "output_type": "stream",
     "text": [
      "Weather\n"
     ]
    }
   ],
   "source": [
    "most_frequent_cancellation_code = x['CancellationCode'].value_counts().argmax()\n",
    "if  most_frequent_cancellation_code == 'A':\n",
    "    print 'Carrier'\n",
    "elif most_frequent_cancellation_code == 'B':\n",
    "    print 'Weather'\n",
    "elif most_frequent_cancellation_code == 'C':\n",
    "    print 'NAS'\n",
    "else:\n",
    "    print 'Security'"
   ]
  },
  {
   "cell_type": "code",
   "execution_count": 10,
   "metadata": {
    "collapsed": false
   },
   "outputs": [],
   "source": [
    "mean_distance = x['Distance'].mean()\n",
    "min_distance = x['Distance'].min()\n",
    "max_distance = x['Distance'].max()"
   ]
  },
  {
   "cell_type": "code",
   "execution_count": 27,
   "metadata": {
    "collapsed": false
   },
   "outputs": [
    {
     "data": {
      "text/html": [
       "<div>\n",
       "<table border=\"1\" class=\"dataframe\">\n",
       "  <thead>\n",
       "    <tr style=\"text-align: right;\">\n",
       "      <th></th>\n",
       "      <th>Year</th>\n",
       "      <th>Month</th>\n",
       "      <th>DayofMonth</th>\n",
       "      <th>Origin</th>\n",
       "      <th>Dest</th>\n",
       "      <th>FlightNum</th>\n",
       "    </tr>\n",
       "  </thead>\n",
       "  <tbody>\n",
       "    <tr>\n",
       "      <th>2547298</th>\n",
       "      <td>2008</td>\n",
       "      <td>5</td>\n",
       "      <td>15</td>\n",
       "      <td>JFK</td>\n",
       "      <td>LGA</td>\n",
       "      <td>4988</td>\n",
       "    </tr>\n",
       "    <tr>\n",
       "      <th>4392215</th>\n",
       "      <td>2008</td>\n",
       "      <td>8</td>\n",
       "      <td>10</td>\n",
       "      <td>JFK</td>\n",
       "      <td>LGA</td>\n",
       "      <td>5572</td>\n",
       "    </tr>\n",
       "  </tbody>\n",
       "</table>\n",
       "</div>"
      ],
      "text/plain": [
       "         Year  Month  DayofMonth Origin Dest  FlightNum\n",
       "2547298  2008      5          15    JFK  LGA       4988\n",
       "4392215  2008      8          10    JFK  LGA       5572"
      ]
     },
     "execution_count": 27,
     "metadata": {},
     "output_type": "execute_result"
    }
   ],
   "source": [
    "min_distance_flights = x.loc[x['Distance'] == min_distance, 'FlightNum']\n",
    "x.loc[x['Distance'] == min_distance, ['Year', 'Month', 'DayofMonth','Origin', 'Dest', 'FlightNum']]"
   ]
  },
  {
   "cell_type": "code",
   "execution_count": 32,
   "metadata": {
    "collapsed": false
   },
   "outputs": [
    {
     "data": {
      "text/html": [
       "<div>\n",
       "<table border=\"1\" class=\"dataframe\">\n",
       "  <thead>\n",
       "    <tr style=\"text-align: right;\">\n",
       "      <th></th>\n",
       "      <th>Year</th>\n",
       "      <th>Month</th>\n",
       "      <th>DayofMonth</th>\n",
       "      <th>FlightNum</th>\n",
       "      <th>Distance</th>\n",
       "    </tr>\n",
       "  </thead>\n",
       "  <tbody>\n",
       "    <tr>\n",
       "      <th>151629</th>\n",
       "      <td>2008</td>\n",
       "      <td>1</td>\n",
       "      <td>2</td>\n",
       "      <td>5572</td>\n",
       "      <td>544</td>\n",
       "    </tr>\n",
       "    <tr>\n",
       "      <th>151771</th>\n",
       "      <td>2008</td>\n",
       "      <td>1</td>\n",
       "      <td>3</td>\n",
       "      <td>4988</td>\n",
       "      <td>834</td>\n",
       "    </tr>\n",
       "    <tr>\n",
       "      <th>152291</th>\n",
       "      <td>2008</td>\n",
       "      <td>1</td>\n",
       "      <td>3</td>\n",
       "      <td>5572</td>\n",
       "      <td>544</td>\n",
       "    </tr>\n",
       "    <tr>\n",
       "      <th>152430</th>\n",
       "      <td>2008</td>\n",
       "      <td>1</td>\n",
       "      <td>4</td>\n",
       "      <td>4988</td>\n",
       "      <td>834</td>\n",
       "    </tr>\n",
       "    <tr>\n",
       "      <th>152949</th>\n",
       "      <td>2008</td>\n",
       "      <td>1</td>\n",
       "      <td>4</td>\n",
       "      <td>5572</td>\n",
       "      <td>544</td>\n",
       "    </tr>\n",
       "    <tr>\n",
       "      <th>153088</th>\n",
       "      <td>2008</td>\n",
       "      <td>1</td>\n",
       "      <td>5</td>\n",
       "      <td>4988</td>\n",
       "      <td>834</td>\n",
       "    </tr>\n",
       "    <tr>\n",
       "      <th>153419</th>\n",
       "      <td>2008</td>\n",
       "      <td>1</td>\n",
       "      <td>5</td>\n",
       "      <td>5572</td>\n",
       "      <td>544</td>\n",
       "    </tr>\n",
       "    <tr>\n",
       "      <th>153545</th>\n",
       "      <td>2008</td>\n",
       "      <td>1</td>\n",
       "      <td>6</td>\n",
       "      <td>4988</td>\n",
       "      <td>834</td>\n",
       "    </tr>\n",
       "    <tr>\n",
       "      <th>153963</th>\n",
       "      <td>2008</td>\n",
       "      <td>1</td>\n",
       "      <td>6</td>\n",
       "      <td>5572</td>\n",
       "      <td>544</td>\n",
       "    </tr>\n",
       "    <tr>\n",
       "      <th>154096</th>\n",
       "      <td>2008</td>\n",
       "      <td>1</td>\n",
       "      <td>7</td>\n",
       "      <td>4988</td>\n",
       "      <td>834</td>\n",
       "    </tr>\n",
       "    <tr>\n",
       "      <th>154611</th>\n",
       "      <td>2008</td>\n",
       "      <td>1</td>\n",
       "      <td>7</td>\n",
       "      <td>5572</td>\n",
       "      <td>544</td>\n",
       "    </tr>\n",
       "    <tr>\n",
       "      <th>154750</th>\n",
       "      <td>2008</td>\n",
       "      <td>1</td>\n",
       "      <td>8</td>\n",
       "      <td>4988</td>\n",
       "      <td>834</td>\n",
       "    </tr>\n",
       "    <tr>\n",
       "      <th>155185</th>\n",
       "      <td>2008</td>\n",
       "      <td>1</td>\n",
       "      <td>8</td>\n",
       "      <td>5572</td>\n",
       "      <td>544</td>\n",
       "    </tr>\n",
       "    <tr>\n",
       "      <th>155308</th>\n",
       "      <td>2008</td>\n",
       "      <td>1</td>\n",
       "      <td>9</td>\n",
       "      <td>4988</td>\n",
       "      <td>834</td>\n",
       "    </tr>\n",
       "    <tr>\n",
       "      <th>155823</th>\n",
       "      <td>2008</td>\n",
       "      <td>1</td>\n",
       "      <td>9</td>\n",
       "      <td>5572</td>\n",
       "      <td>544</td>\n",
       "    </tr>\n",
       "    <tr>\n",
       "      <th>155962</th>\n",
       "      <td>2008</td>\n",
       "      <td>1</td>\n",
       "      <td>10</td>\n",
       "      <td>4988</td>\n",
       "      <td>834</td>\n",
       "    </tr>\n",
       "    <tr>\n",
       "      <th>156485</th>\n",
       "      <td>2008</td>\n",
       "      <td>1</td>\n",
       "      <td>10</td>\n",
       "      <td>5572</td>\n",
       "      <td>544</td>\n",
       "    </tr>\n",
       "    <tr>\n",
       "      <th>156627</th>\n",
       "      <td>2008</td>\n",
       "      <td>1</td>\n",
       "      <td>11</td>\n",
       "      <td>4988</td>\n",
       "      <td>834</td>\n",
       "    </tr>\n",
       "    <tr>\n",
       "      <th>157148</th>\n",
       "      <td>2008</td>\n",
       "      <td>1</td>\n",
       "      <td>11</td>\n",
       "      <td>5572</td>\n",
       "      <td>544</td>\n",
       "    </tr>\n",
       "    <tr>\n",
       "      <th>157287</th>\n",
       "      <td>2008</td>\n",
       "      <td>1</td>\n",
       "      <td>12</td>\n",
       "      <td>4988</td>\n",
       "      <td>834</td>\n",
       "    </tr>\n",
       "    <tr>\n",
       "      <th>157622</th>\n",
       "      <td>2008</td>\n",
       "      <td>1</td>\n",
       "      <td>12</td>\n",
       "      <td>5572</td>\n",
       "      <td>544</td>\n",
       "    </tr>\n",
       "    <tr>\n",
       "      <th>157747</th>\n",
       "      <td>2008</td>\n",
       "      <td>1</td>\n",
       "      <td>13</td>\n",
       "      <td>4988</td>\n",
       "      <td>834</td>\n",
       "    </tr>\n",
       "    <tr>\n",
       "      <th>158169</th>\n",
       "      <td>2008</td>\n",
       "      <td>1</td>\n",
       "      <td>13</td>\n",
       "      <td>5572</td>\n",
       "      <td>544</td>\n",
       "    </tr>\n",
       "    <tr>\n",
       "      <th>158301</th>\n",
       "      <td>2008</td>\n",
       "      <td>1</td>\n",
       "      <td>14</td>\n",
       "      <td>4988</td>\n",
       "      <td>834</td>\n",
       "    </tr>\n",
       "    <tr>\n",
       "      <th>158819</th>\n",
       "      <td>2008</td>\n",
       "      <td>1</td>\n",
       "      <td>14</td>\n",
       "      <td>5572</td>\n",
       "      <td>544</td>\n",
       "    </tr>\n",
       "    <tr>\n",
       "      <th>158958</th>\n",
       "      <td>2008</td>\n",
       "      <td>1</td>\n",
       "      <td>15</td>\n",
       "      <td>4988</td>\n",
       "      <td>834</td>\n",
       "    </tr>\n",
       "    <tr>\n",
       "      <th>159392</th>\n",
       "      <td>2008</td>\n",
       "      <td>1</td>\n",
       "      <td>15</td>\n",
       "      <td>5572</td>\n",
       "      <td>544</td>\n",
       "    </tr>\n",
       "    <tr>\n",
       "      <th>159514</th>\n",
       "      <td>2008</td>\n",
       "      <td>1</td>\n",
       "      <td>16</td>\n",
       "      <td>4988</td>\n",
       "      <td>834</td>\n",
       "    </tr>\n",
       "    <tr>\n",
       "      <th>160029</th>\n",
       "      <td>2008</td>\n",
       "      <td>1</td>\n",
       "      <td>16</td>\n",
       "      <td>5572</td>\n",
       "      <td>544</td>\n",
       "    </tr>\n",
       "    <tr>\n",
       "      <th>160169</th>\n",
       "      <td>2008</td>\n",
       "      <td>1</td>\n",
       "      <td>17</td>\n",
       "      <td>4988</td>\n",
       "      <td>834</td>\n",
       "    </tr>\n",
       "    <tr>\n",
       "      <th>...</th>\n",
       "      <td>...</td>\n",
       "      <td>...</td>\n",
       "      <td>...</td>\n",
       "      <td>...</td>\n",
       "      <td>...</td>\n",
       "    </tr>\n",
       "    <tr>\n",
       "      <th>6776729</th>\n",
       "      <td>2008</td>\n",
       "      <td>12</td>\n",
       "      <td>30</td>\n",
       "      <td>4988</td>\n",
       "      <td>903</td>\n",
       "    </tr>\n",
       "    <tr>\n",
       "      <th>6776730</th>\n",
       "      <td>2008</td>\n",
       "      <td>12</td>\n",
       "      <td>29</td>\n",
       "      <td>4988</td>\n",
       "      <td>903</td>\n",
       "    </tr>\n",
       "    <tr>\n",
       "      <th>6776731</th>\n",
       "      <td>2008</td>\n",
       "      <td>12</td>\n",
       "      <td>31</td>\n",
       "      <td>4988</td>\n",
       "      <td>903</td>\n",
       "    </tr>\n",
       "    <tr>\n",
       "      <th>6776732</th>\n",
       "      <td>2008</td>\n",
       "      <td>12</td>\n",
       "      <td>28</td>\n",
       "      <td>4988</td>\n",
       "      <td>903</td>\n",
       "    </tr>\n",
       "    <tr>\n",
       "      <th>6776733</th>\n",
       "      <td>2008</td>\n",
       "      <td>12</td>\n",
       "      <td>26</td>\n",
       "      <td>4988</td>\n",
       "      <td>903</td>\n",
       "    </tr>\n",
       "    <tr>\n",
       "      <th>6776734</th>\n",
       "      <td>2008</td>\n",
       "      <td>12</td>\n",
       "      <td>24</td>\n",
       "      <td>4988</td>\n",
       "      <td>903</td>\n",
       "    </tr>\n",
       "    <tr>\n",
       "      <th>6776735</th>\n",
       "      <td>2008</td>\n",
       "      <td>12</td>\n",
       "      <td>1</td>\n",
       "      <td>4988</td>\n",
       "      <td>903</td>\n",
       "    </tr>\n",
       "    <tr>\n",
       "      <th>6776736</th>\n",
       "      <td>2008</td>\n",
       "      <td>12</td>\n",
       "      <td>6</td>\n",
       "      <td>4988</td>\n",
       "      <td>903</td>\n",
       "    </tr>\n",
       "    <tr>\n",
       "      <th>6776737</th>\n",
       "      <td>2008</td>\n",
       "      <td>12</td>\n",
       "      <td>5</td>\n",
       "      <td>4988</td>\n",
       "      <td>903</td>\n",
       "    </tr>\n",
       "    <tr>\n",
       "      <th>6776738</th>\n",
       "      <td>2008</td>\n",
       "      <td>12</td>\n",
       "      <td>12</td>\n",
       "      <td>4988</td>\n",
       "      <td>903</td>\n",
       "    </tr>\n",
       "    <tr>\n",
       "      <th>6776739</th>\n",
       "      <td>2008</td>\n",
       "      <td>12</td>\n",
       "      <td>7</td>\n",
       "      <td>4988</td>\n",
       "      <td>903</td>\n",
       "    </tr>\n",
       "    <tr>\n",
       "      <th>6776740</th>\n",
       "      <td>2008</td>\n",
       "      <td>12</td>\n",
       "      <td>25</td>\n",
       "      <td>4988</td>\n",
       "      <td>903</td>\n",
       "    </tr>\n",
       "    <tr>\n",
       "      <th>6776741</th>\n",
       "      <td>2008</td>\n",
       "      <td>12</td>\n",
       "      <td>3</td>\n",
       "      <td>4988</td>\n",
       "      <td>903</td>\n",
       "    </tr>\n",
       "    <tr>\n",
       "      <th>6776742</th>\n",
       "      <td>2008</td>\n",
       "      <td>12</td>\n",
       "      <td>4</td>\n",
       "      <td>4988</td>\n",
       "      <td>903</td>\n",
       "    </tr>\n",
       "    <tr>\n",
       "      <th>6776743</th>\n",
       "      <td>2008</td>\n",
       "      <td>12</td>\n",
       "      <td>20</td>\n",
       "      <td>4988</td>\n",
       "      <td>903</td>\n",
       "    </tr>\n",
       "    <tr>\n",
       "      <th>6776744</th>\n",
       "      <td>2008</td>\n",
       "      <td>12</td>\n",
       "      <td>22</td>\n",
       "      <td>4988</td>\n",
       "      <td>903</td>\n",
       "    </tr>\n",
       "    <tr>\n",
       "      <th>6776745</th>\n",
       "      <td>2008</td>\n",
       "      <td>12</td>\n",
       "      <td>8</td>\n",
       "      <td>4988</td>\n",
       "      <td>903</td>\n",
       "    </tr>\n",
       "    <tr>\n",
       "      <th>6776746</th>\n",
       "      <td>2008</td>\n",
       "      <td>12</td>\n",
       "      <td>16</td>\n",
       "      <td>4988</td>\n",
       "      <td>903</td>\n",
       "    </tr>\n",
       "    <tr>\n",
       "      <th>6776747</th>\n",
       "      <td>2008</td>\n",
       "      <td>12</td>\n",
       "      <td>19</td>\n",
       "      <td>4988</td>\n",
       "      <td>903</td>\n",
       "    </tr>\n",
       "    <tr>\n",
       "      <th>6776748</th>\n",
       "      <td>2008</td>\n",
       "      <td>12</td>\n",
       "      <td>11</td>\n",
       "      <td>4988</td>\n",
       "      <td>903</td>\n",
       "    </tr>\n",
       "    <tr>\n",
       "      <th>6776749</th>\n",
       "      <td>2008</td>\n",
       "      <td>12</td>\n",
       "      <td>13</td>\n",
       "      <td>4988</td>\n",
       "      <td>903</td>\n",
       "    </tr>\n",
       "    <tr>\n",
       "      <th>6776750</th>\n",
       "      <td>2008</td>\n",
       "      <td>12</td>\n",
       "      <td>15</td>\n",
       "      <td>4988</td>\n",
       "      <td>903</td>\n",
       "    </tr>\n",
       "    <tr>\n",
       "      <th>6776751</th>\n",
       "      <td>2008</td>\n",
       "      <td>12</td>\n",
       "      <td>9</td>\n",
       "      <td>4988</td>\n",
       "      <td>903</td>\n",
       "    </tr>\n",
       "    <tr>\n",
       "      <th>6776752</th>\n",
       "      <td>2008</td>\n",
       "      <td>12</td>\n",
       "      <td>2</td>\n",
       "      <td>4988</td>\n",
       "      <td>903</td>\n",
       "    </tr>\n",
       "    <tr>\n",
       "      <th>6776753</th>\n",
       "      <td>2008</td>\n",
       "      <td>12</td>\n",
       "      <td>21</td>\n",
       "      <td>4988</td>\n",
       "      <td>903</td>\n",
       "    </tr>\n",
       "    <tr>\n",
       "      <th>6776754</th>\n",
       "      <td>2008</td>\n",
       "      <td>12</td>\n",
       "      <td>23</td>\n",
       "      <td>4988</td>\n",
       "      <td>903</td>\n",
       "    </tr>\n",
       "    <tr>\n",
       "      <th>6776755</th>\n",
       "      <td>2008</td>\n",
       "      <td>12</td>\n",
       "      <td>14</td>\n",
       "      <td>4988</td>\n",
       "      <td>903</td>\n",
       "    </tr>\n",
       "    <tr>\n",
       "      <th>6776756</th>\n",
       "      <td>2008</td>\n",
       "      <td>12</td>\n",
       "      <td>17</td>\n",
       "      <td>4988</td>\n",
       "      <td>903</td>\n",
       "    </tr>\n",
       "    <tr>\n",
       "      <th>6776757</th>\n",
       "      <td>2008</td>\n",
       "      <td>12</td>\n",
       "      <td>10</td>\n",
       "      <td>4988</td>\n",
       "      <td>903</td>\n",
       "    </tr>\n",
       "    <tr>\n",
       "      <th>6776758</th>\n",
       "      <td>2008</td>\n",
       "      <td>12</td>\n",
       "      <td>18</td>\n",
       "      <td>4988</td>\n",
       "      <td>903</td>\n",
       "    </tr>\n",
       "  </tbody>\n",
       "</table>\n",
       "<p>1051 rows × 5 columns</p>\n",
       "</div>"
      ],
      "text/plain": [
       "         Year  Month  DayofMonth  FlightNum  Distance\n",
       "151629   2008      1           2       5572       544\n",
       "151771   2008      1           3       4988       834\n",
       "152291   2008      1           3       5572       544\n",
       "152430   2008      1           4       4988       834\n",
       "152949   2008      1           4       5572       544\n",
       "153088   2008      1           5       4988       834\n",
       "153419   2008      1           5       5572       544\n",
       "153545   2008      1           6       4988       834\n",
       "153963   2008      1           6       5572       544\n",
       "154096   2008      1           7       4988       834\n",
       "154611   2008      1           7       5572       544\n",
       "154750   2008      1           8       4988       834\n",
       "155185   2008      1           8       5572       544\n",
       "155308   2008      1           9       4988       834\n",
       "155823   2008      1           9       5572       544\n",
       "155962   2008      1          10       4988       834\n",
       "156485   2008      1          10       5572       544\n",
       "156627   2008      1          11       4988       834\n",
       "157148   2008      1          11       5572       544\n",
       "157287   2008      1          12       4988       834\n",
       "157622   2008      1          12       5572       544\n",
       "157747   2008      1          13       4988       834\n",
       "158169   2008      1          13       5572       544\n",
       "158301   2008      1          14       4988       834\n",
       "158819   2008      1          14       5572       544\n",
       "158958   2008      1          15       4988       834\n",
       "159392   2008      1          15       5572       544\n",
       "159514   2008      1          16       4988       834\n",
       "160029   2008      1          16       5572       544\n",
       "160169   2008      1          17       4988       834\n",
       "...       ...    ...         ...        ...       ...\n",
       "6776729  2008     12          30       4988       903\n",
       "6776730  2008     12          29       4988       903\n",
       "6776731  2008     12          31       4988       903\n",
       "6776732  2008     12          28       4988       903\n",
       "6776733  2008     12          26       4988       903\n",
       "6776734  2008     12          24       4988       903\n",
       "6776735  2008     12           1       4988       903\n",
       "6776736  2008     12           6       4988       903\n",
       "6776737  2008     12           5       4988       903\n",
       "6776738  2008     12          12       4988       903\n",
       "6776739  2008     12           7       4988       903\n",
       "6776740  2008     12          25       4988       903\n",
       "6776741  2008     12           3       4988       903\n",
       "6776742  2008     12           4       4988       903\n",
       "6776743  2008     12          20       4988       903\n",
       "6776744  2008     12          22       4988       903\n",
       "6776745  2008     12           8       4988       903\n",
       "6776746  2008     12          16       4988       903\n",
       "6776747  2008     12          19       4988       903\n",
       "6776748  2008     12          11       4988       903\n",
       "6776749  2008     12          13       4988       903\n",
       "6776750  2008     12          15       4988       903\n",
       "6776751  2008     12           9       4988       903\n",
       "6776752  2008     12           2       4988       903\n",
       "6776753  2008     12          21       4988       903\n",
       "6776754  2008     12          23       4988       903\n",
       "6776755  2008     12          14       4988       903\n",
       "6776756  2008     12          17       4988       903\n",
       "6776757  2008     12          10       4988       903\n",
       "6776758  2008     12          18       4988       903\n",
       "\n",
       "[1051 rows x 5 columns]"
      ]
     },
     "execution_count": 32,
     "metadata": {},
     "output_type": "execute_result"
    }
   ],
   "source": [
    "x.loc[x['FlightNum'].isin(min_distance_flights), ['Year', 'Month', 'DayofMonth','FlightNum','Distance']]"
   ]
  },
  {
   "cell_type": "code",
   "execution_count": 35,
   "metadata": {
    "collapsed": false
   },
   "outputs": [
    {
     "data": {
      "text/plain": [
       "'ATL'"
      ]
     },
     "execution_count": 35,
     "metadata": {},
     "output_type": "execute_result"
    }
   ],
   "source": [
    "x['Origin'].value_counts().argmax()"
   ]
  },
  {
   "cell_type": "code",
   "execution_count": 6,
   "metadata": {
    "collapsed": false
   },
   "outputs": [],
   "source": [
    "avg_times = x.groupby('Origin')['AirTime'].mean()\n",
    "avg_times"
   ]
  },
  {
   "cell_type": "code",
   "execution_count": 10,
   "metadata": {
    "collapsed": false
   },
   "outputs": [
    {
     "data": {
      "text/plain": [
       "'SJU'"
      ]
     },
     "execution_count": 10,
     "metadata": {},
     "output_type": "execute_result"
    }
   ],
   "source": [
    "avg_times.argmax()"
   ]
  },
  {
   "cell_type": "code",
   "execution_count": 73,
   "metadata": {
    "collapsed": false
   },
   "outputs": [],
   "source": [
    "y = pd.DataFrame({'Origin': x['Origin'], 'Delayed': x['DepDelay'] > 0})"
   ]
  },
  {
   "cell_type": "code",
   "execution_count": 113,
   "metadata": {
    "collapsed": false
   },
   "outputs": [],
   "source": [
    "agg_y = y.groupby('Origin').agg([len, np.sum])"
   ]
  },
  {
   "cell_type": "code",
   "execution_count": 114,
   "metadata": {
    "collapsed": false
   },
   "outputs": [],
   "source": [
    "filter_agg_y = agg_y[agg_y['Delayed']['len'] >= 1000]"
   ]
  },
  {
   "cell_type": "code",
   "execution_count": 115,
   "metadata": {
    "collapsed": true
   },
   "outputs": [],
   "source": [
    "delayed_count = filter_agg_y['Delayed']['sum']\n",
    "all_count = filter_agg_y['Delayed']['len']"
   ]
  },
  {
   "cell_type": "code",
   "execution_count": 116,
   "metadata": {
    "collapsed": false
   },
   "outputs": [],
   "source": [
    "ratios = delayed_count / all_count"
   ]
  },
  {
   "cell_type": "code",
   "execution_count": 118,
   "metadata": {
    "collapsed": false
   },
   "outputs": [
    {
     "data": {
      "text/plain": [
       "'DAL'"
      ]
     },
     "execution_count": 118,
     "metadata": {},
     "output_type": "execute_result"
    }
   ],
   "source": [
    "ratios.argmax()"
   ]
  },
  {
   "cell_type": "code",
   "execution_count": null,
   "metadata": {
    "collapsed": true
   },
   "outputs": [],
   "source": []
  }
 ],
 "metadata": {
  "kernelspec": {
   "display_name": "Python 2",
   "language": "python",
   "name": "python2"
  },
  "language_info": {
   "codemirror_mode": {
    "name": "ipython",
    "version": 2
   },
   "file_extension": ".py",
   "mimetype": "text/x-python",
   "name": "python",
   "nbconvert_exporter": "python",
   "pygments_lexer": "ipython2",
   "version": "2.7.9"
  }
 },
 "nbformat": 4,
 "nbformat_minor": 0
}
